{
 "cells": [
  {
   "cell_type": "markdown",
   "id": "ad9146c1",
   "metadata": {},
   "source": [
    "# Question 1\n",
    "Consider the following Python module:\n",
    "a = 0\n",
    "def b():\n",
    " global a\n",
    " a = c(a)\n",
    "def c(a):\n",
    " return a + 2\n",
    "After importing the module into the interpreter, you execute:\n",
    ">>> b()\n",
    ">>> b()\n",
    ">>> b()\n",
    ">>> a\n",
    "?\n",
    "What value is displayed when the last expression (a) is evaluated? Explain your \n",
    "answer by indicating what happens in every executed statemen"
   ]
  },
  {
   "cell_type": "code",
   "execution_count": 7,
   "id": "3dbfb4ce",
   "metadata": {},
   "outputs": [
    {
     "name": "stdout",
     "output_type": "stream",
     "text": [
      "\n",
      "****************************Question 1******************************\n",
      "\n",
      "displaying the latest updated value of a =  6\n"
     ]
    }
   ],
   "source": [
    "\n",
    "#**********************Question 1*************************\n",
    "print(\"\\n****************************Question 1******************************\\n\")\n",
    "\n",
    "a = 0       #creates a variable 'a'\n",
    "def b():    #defines function b()\n",
    " global a   #creates a global variable 'a'\n",
    " a = c(a)   #calls another function c(a) and storing the value of c(a) in a\n",
    "\n",
    "def c(a):   #defines another function c(a)\n",
    " return a + 2   #returns vakue a+2 to the function\n",
    "\n",
    "b()     #calls the function b() for the first time with initial value of a=0 which returns/update value of a to 2\n",
    "b()     #calls the function b() for the second time with new value of a=2  which returns/updates value of a to 4\n",
    "b()     #calls the function b() for the third time with latest value pf a=4 which returns/updates value of a to 6\n",
    "a       #stores the latest updated value of a\n",
    "print(\"displaying the latest updated value of a = \",a)    #prints the latest updated value of 'a' which in 6 in this case"
   ]
  },
  {
   "cell_type": "markdown",
   "id": "1f780bf7",
   "metadata": {},
   "source": [
    "# Question 2\n",
    " Function fileLength(), given to you, takes the name as input and returns the length of the file. Modify function fileLength() so that a friendly message is printed instead"
   ]
  },
  {
   "cell_type": "code",
   "execution_count": 10,
   "id": "6d80b0dc",
   "metadata": {},
   "outputs": [
    {
     "name": "stdout",
     "output_type": "stream",
     "text": [
      "\n",
      "**************************Question 2*******************************\n",
      "\n",
      "\n",
      "checking file prbm_set2_q1.py present or not...\n",
      "\n",
      "File C:\\LOCAL_DISK_F\\TANU\\Python\\1\\problem_set2\\prbm_set2_q1\\prbm_set2_q1.py is found...!\n",
      "\n",
      "the file length =  936\n",
      "None\n",
      "\n",
      "checking if file idterm.py is present or not...\n",
      "\n",
      "error...! file idterm.py not found..!\n"
     ]
    }
   ],
   "source": [
    "\n",
    "#**************************Question 2*******************************\n",
    "\n",
    "print(\"\\n**************************Question 2*******************************\\n\")\n",
    "\n",
    "\n",
    "def file_length(file_name):\n",
    "    try:\n",
    "        file = open(file_name)\n",
    "        contents = file.read()\n",
    "        file.close()\n",
    "        print(\"File \"+file_name+\" is found...!\")\n",
    "        print(\"\\nthe file length = \",len(contents))\n",
    "    except FileNotFoundError:\n",
    "        return \"error...! file \"+file_name+\" not found..!\"\n",
    "\n",
    "#if file is present in the folder :\n",
    "print(\"\\nchecking file prbm_set2_q1.py present or not...\\n\")\n",
    "print(file_length('C:\\\\LOCAL_DISK_F\\\\TANU\\\\Python\\\\1\\\\problem_set2\\\\prbm_set2_q1\\\\prbm_set2_q1.py'))\n",
    "\n",
    "#if file is not present in  the folder :\n",
    "print(\"\\nchecking if file idterm.py is present or not...\\n\")\n",
    "print(file_length('idterm.py'))\n",
    "\n"
   ]
  },
  {
   "cell_type": "markdown",
   "id": "115bfa55",
   "metadata": {},
   "source": [
    "# #Question 3\n",
    "Write a class named Marsupial that can be used as shown below:\n",
    ">>> m = Marsupial()\n",
    ">>> m.put_in_pouch('doll')\n",
    ">>> m.put_in_pouch('firetruck')\n",
    ">>> m.put_in_pouch('kitten')\n",
    ">>> m.pouch_contents()\n",
    "['doll', 'firetruck', 'kitten'] Now write a class named Kangaroo as a subclass of Marsupial that inherits all the \n",
    "attributes of Marsupial and also:\n",
    "a. extends the Marsupial __init__ constructor to take, as input, the \n",
    "coordinates x and y of the Kangaroo object,\n",
    "b. supports method jump that takes number values dx and dy as input and \n",
    "moves the kangaroo by dx units along the x-axis and by dy units along the y\u0002axis, and\n",
    "c. overloads the __str__ operator so it behaves as shown below.\n",
    ">>> k = Kangaroo(0,0)\n",
    ">>> print(k)\n",
    "I am a Kangaroo located at coordinates (0,0)\n",
    ">>> k.put_in_pouch('doll')\n",
    ">>> k.put_in_pouch('firetruck')\n",
    ">>> k.put_in_pouch('kitten')\n",
    ">>> k.pouch_contents()\n",
    "['doll', 'firetruck', 'kitten']\n",
    ">>> k.jump(1,0)\n",
    ">>> k.jump(1,0)\n",
    ">>> k.jump(1,0)\n",
    ">>> print(k)\n",
    "I am a Kangaroo located at coordinates (3,0)\n"
   ]
  },
  {
   "cell_type": "code",
   "execution_count": 11,
   "id": "6f4b03db",
   "metadata": {},
   "outputs": [
    {
     "name": "stdout",
     "output_type": "stream",
     "text": [
      "\n",
      "**************************Question 3*******************************\n",
      "\n",
      "class Marsupial contains : ['doll', 'firetruck', 'kitten'] \n",
      "\n",
      "I am a Kangaroo located at coordinates (0,0)\n",
      "\n",
      "subclass kangaroo contains :  ['doll', 'firetruck', 'kitten', 'doll', 'firetruck', 'kitten'] \n",
      "\n",
      "I am a Kangaroo located at coordinates (3,0)\n",
      "\n"
     ]
    }
   ],
   "source": [
    "#**************************Question 3*******************************\n",
    "\n",
    "print(\"\\n**************************Question 3*******************************\\n\")\n",
    "\n",
    "\n",
    "class Marsupial:\n",
    "    lst=[]\n",
    "    def init(self): \n",
    "        self.lst = []\n",
    "        \n",
    "    #Add to list\n",
    "    def put_in_pouch(self, item):\n",
    "        self.lst.append(item)\n",
    "        \n",
    "    #Return List\n",
    "    def pouch_contents(self):\n",
    "        return self.lst\n",
    "\n",
    "class Kangaroo(Marsupial):\n",
    "\n",
    "    def __init__(self,x,y):\n",
    "\n",
    "            Marsupial.__init__(self)\n",
    "\n",
    "            self.x = x\n",
    "\n",
    "            self.y = y\n",
    "\n",
    "    def jump(self,dx,dy):\n",
    "\n",
    "        self.x += dx\n",
    "\n",
    "        self.y += dy\n",
    "\n",
    "    def __str__(self):\n",
    "\n",
    "        return 'I am a Kangaroo located at coordinates ({},{})'.format(self.x,self.y)+'\\n'\n",
    "\n",
    "m = Marsupial() \n",
    "m.put_in_pouch('doll') \n",
    "m.put_in_pouch('firetruck') \n",
    "m.put_in_pouch('kitten') \n",
    "print(\"class Marsupial contains :\",m.pouch_contents(),\"\\n\")\n",
    "\n",
    "k = Kangaroo(0,0) \n",
    "print(k) \n",
    "k.put_in_pouch('doll')\n",
    "k.put_in_pouch('firetruck') \n",
    "k.put_in_pouch('kitten') \n",
    "print(\"subclass kangaroo contains : \",k.pouch_contents(),\"\\n\") \n",
    "k.jump(1,0) \n",
    "k.jump(1,0)\n",
    "k.jump(1,0)\n",
    "print(k)"
   ]
  },
  {
   "cell_type": "markdown",
   "id": "8be8a939",
   "metadata": {},
   "source": [
    "# Question 4\n",
    "Write function collatz() that takes a positive integer x as input and prints the \n",
    "Collatz sequence starting at x. A Collatz sequence is obtained by repeatedly applying \n",
    "this rule to the previous number x in the sequence:\n",
    "x = {\n",
    "𝑥/2 𝑖𝑓 𝑥 𝑖𝑠 𝑒𝑣𝑒𝑛\n",
    "3𝑥 + 1 𝑖𝑓 𝑥 𝑖𝑠 𝑜𝑑𝑑\n",
    "Your function should stop when the sequence gets to number 1. Your \n",
    "implementation must be recursive, without any loops.\n",
    ">>> collatz(1)\n",
    "1\n",
    ">>> collatz(10)\n",
    "10\n",
    "5\n",
    "16\n",
    "8\n",
    "4\n",
    "2\n",
    "1"
   ]
  },
  {
   "cell_type": "code",
   "execution_count": 12,
   "id": "3cc6b056",
   "metadata": {},
   "outputs": [
    {
     "name": "stdout",
     "output_type": "stream",
     "text": [
      "\n",
      "**************************Question 4*******************************\n",
      "\n",
      "ehtre any number to get collatz sequence : 9\n",
      "9\n",
      "28\n",
      "14\n",
      "7\n",
      "22\n",
      "11\n",
      "34\n",
      "17\n",
      "52\n",
      "26\n",
      "13\n",
      "40\n",
      "20\n",
      "10\n",
      "5\n",
      "16\n",
      "8\n",
      "4\n",
      "2\n",
      "1\n"
     ]
    }
   ],
   "source": [
    "\n",
    "#**************************Question 4*******************************\n",
    "\n",
    "print(\"\\n**************************Question 4*******************************\\n\")\n",
    "\n",
    "def collatz(x):\n",
    "    #print value of x \n",
    "    print(x)\n",
    "    if x==1:\n",
    "        return\n",
    "    elif x%2==0:\n",
    "        return collatz(x//2)  #call method recursively\n",
    "    else:\n",
    "        return collatz((x*3)+1)  #call method recursively\n",
    "\n",
    "x=int(input(\"ehtre any number to get collatz sequence : \"))\n",
    "collatz(x)\n"
   ]
  },
  {
   "cell_type": "markdown",
   "id": "efa5e388",
   "metadata": {},
   "source": [
    "# Question 5\n",
    "Write a recursive method binary() that takes a non-negative \n",
    "integer n and prints the binary representation of integer n.\n",
    ">>> binary(0)\n",
    "0\n",
    ">>> binary(1)\n",
    "1\n",
    ">>> binary(3)\n",
    "11\n",
    ">>> binary(9)\n",
    "1001\n"
   ]
  },
  {
   "cell_type": "code",
   "execution_count": 13,
   "id": "d0597709",
   "metadata": {},
   "outputs": [
    {
     "name": "stdout",
     "output_type": "stream",
     "text": [
      "\n",
      "**************************Question 5*******************************\n",
      "\n",
      "entre any integer to get its binary representation of integer : 11\n",
      "in binary :  1011\n"
     ]
    }
   ],
   "source": [
    "\n",
    "#**************************Question 5*******************************\n",
    "\n",
    "print(\"\\n**************************Question 5*******************************\\n\")\n",
    "\n",
    "def binary( n ):\n",
    "    if n == 0:\n",
    "        return 0\n",
    "    else:\n",
    "       \n",
    "        return  n % 2 + 10 * binary(int(n // 2))\n",
    "\n",
    "n = int(input(\"entre any integer to get its binary representation of integer : \"))\n",
    "print(\"in binary : \",binary(n))"
   ]
  },
  {
   "cell_type": "markdown",
   "id": "f5cc3ee8",
   "metadata": {},
   "source": [
    "# Question 6\n",
    "Implement a class named HeadingParser that can be used to parse an HTML \n",
    "document, and retrieve and print all the headings in the document. You should \n",
    "implement your class as a subclass of HTMLParser, defined in Standard Library \n",
    "module html.parser. When fed a string containing HTML code, your class should \n",
    "print the headings, one per line and in the order in which they appear in the \n",
    "document. Each heading should be indented as follows: an h1 heading should have Computer Studies\n",
    "indentation 0, and h2 heading should have indentation 1, etc. Test your \n",
    "implementation using w3c.html.\n",
    ">>> infile = open('w3c.html')\n",
    ">>> content = infile.read()\n",
    ">>> infile.close()\n",
    ">>> hp = HeadingParser()\n",
    ">>> hp.feed(content)\n",
    "W3C Mission\n",
    "Principles\n"
   ]
  },
  {
   "cell_type": "code",
   "execution_count": 15,
   "id": "7ab96c76",
   "metadata": {},
   "outputs": [
    {
     "name": "stdout",
     "output_type": "stream",
     "text": [
      "\n",
      "**************************Question 6*******************************\n",
      "\n",
      "W3C Mission\n",
      "\n",
      "\n",
      "\n",
      "The W3C mission is to lead the World Wide Web to its full potential\n",
      "\n",
      "by developing protocols and guidelines that ensure the long-term growth of the Web.\n",
      "\n",
      "\n",
      "\n",
      " Principles\n",
      " \n",
      "\n",
      " \n",
      "\n",
      " Web for All\n",
      " \n",
      "\n",
      " Web on Everything\n",
      " \n",
      "\n",
      " \n",
      "See the complete \n",
      " W3C Mission document\n",
      " .\n",
      "\n",
      " \n",
      "\n"
     ]
    }
   ],
   "source": [
    "\n",
    "#**************************Question 6*******************************\n",
    "\n",
    "print(\"\\n**************************Question 6*******************************\\n\")\n",
    "\n",
    "\"\"\"help - https://docs.python.org/3/library/html.parser.html\"\"\"\n",
    "import re\n",
    "from html.parser import HTMLParser\n",
    "infile = open('w3c.html') \n",
    "content = infile.read() \n",
    "infile.close()\n",
    "\n",
    "class HeadingParser(HTMLParser):\n",
    "    def handle_starttag(self, tag, attrs):\n",
    "        global getHeading\n",
    "        match = re.match(r'h(\\d)', tag, re.I) \n",
    "        if match: getHeading = int(match.group(1))\n",
    "            \n",
    "    def handle_endtag(self, tag):\n",
    "        match = re.match(r'h(\\d)', tag, re.I)\n",
    "        if match: getHeading = 0\n",
    "\n",
    "    def handle_data(self, data):\n",
    "        if getHeading > 0:\n",
    "            tab = getHeading - 1\n",
    "            out = \" \"*tab\n",
    "            print(out+data)\n",
    "            \n",
    "getHeading = 0\n",
    "hp = HeadingParser()\n",
    "hp.feed(content)"
   ]
  },
  {
   "cell_type": "markdown",
   "id": "631a9e00",
   "metadata": {},
   "source": [
    "# Question 7\n",
    "Implement recursive function webdir() that takes as input: a URL (as a string) and \n",
    "non-negative integers depth and indent. Your function should visit every web \n",
    "page reachable from the starting URL web page in depth clicks or less, and print \n",
    "each web page's URL. As shown below, indentation, specified by indent, should \n",
    "be used to indicate the depth of a URL.# "
   ]
  },
  {
   "cell_type": "code",
   "execution_count": 16,
   "id": "76bd74cf",
   "metadata": {},
   "outputs": [
    {
     "name": "stdout",
     "output_type": "stream",
     "text": [
      "\n",
      "**************************Question 7*******************************\n",
      "\n",
      "http://reed.cs.depaul.edu/lperkovic/csc242/test1.html\n"
     ]
    }
   ],
   "source": [
    "\n",
    "\n",
    "#**************************Question 7*******************************\n",
    "\n",
    "print(\"\\n**************************Question 7*******************************\\n\")\n",
    "\n",
    "import requests\n",
    "\n",
    "from bs4 import BeautifulSoup   \n",
    "\n",
    "def webdir(url, depth, indent):\n",
    "    resp = requests.get(url)\n",
    "    print(url)\n",
    "    if(depth == indent):\n",
    "        return\n",
    "    soup = BeautifulSoup(resp.text, 'html.parser')  \n",
    "    for link in soup.findAll('a'):\n",
    "        new_link = link.get('href')\n",
    "        if(new_link.startswith('https')):\n",
    "            webdir(new_link, depth, indent+1)\n",
    "\n",
    "webdir('http://reed.cs.depaul.edu/lperkovic/csc242/test1.html', 2, 0)\n",
    "        "
   ]
  },
  {
   "cell_type": "markdown",
   "id": "9ae2cbd4",
   "metadata": {},
   "source": [
    "# Question 8\n",
    "Write SQL queries on the below database table that return: \n",
    "a) All the temperature data.\n",
    "b) All the cities, but without repetition.\n",
    "c) All the records for India.\n",
    "d) All the Fall records.\n",
    "e) The city, country, and season for which the average rainfall is between 200 and 400 millimeters.\n",
    "f) The city and country for which the average Fall temperature is above 20 degrees, in increasing temperature order.\n",
    "g) The total annual rainfall for Cairo.\n",
    "h) The total rainfall for each season."
   ]
  },
  {
   "cell_type": "markdown",
   "id": "c61789f3",
   "metadata": {},
   "source": [
    "#### a) All the temperature data"
   ]
  },
  {
   "cell_type": "code",
   "execution_count": null,
   "id": "5bac2f9e",
   "metadata": {},
   "outputs": [],
   "source": [
    "%%sql\n",
    "select Temperature from weatherTable"
   ]
  },
  {
   "cell_type": "markdown",
   "id": "f9fb4771",
   "metadata": {},
   "source": [
    "#### b) All the cities, but without repetition"
   ]
  },
  {
   "cell_type": "code",
   "execution_count": null,
   "id": "92230c74",
   "metadata": {},
   "outputs": [],
   "source": [
    "%%sql\n",
    "select DISTINCT City from weatherTable"
   ]
  },
  {
   "cell_type": "markdown",
   "id": "f662f3a9",
   "metadata": {},
   "source": [
    "#### c) All the records for India."
   ]
  },
  {
   "cell_type": "code",
   "execution_count": null,
   "id": "c26428f9",
   "metadata": {},
   "outputs": [],
   "source": [
    "%%sql\n",
    "select * from weatherTable where Country='India'"
   ]
  },
  {
   "cell_type": "markdown",
   "id": "8c578c35",
   "metadata": {},
   "source": [
    "#### d) All the Fall records"
   ]
  },
  {
   "cell_type": "code",
   "execution_count": null,
   "id": "e663d419",
   "metadata": {},
   "outputs": [],
   "source": [
    "%%sql\n",
    "select * from weatherTable where Season='Fall'"
   ]
  },
  {
   "cell_type": "markdown",
   "id": "39a4d826",
   "metadata": {},
   "source": [
    "#### e) The city, country, and season for which the average rainfall is between 200  and 400 millimeters.\n"
   ]
  },
  {
   "cell_type": "code",
   "execution_count": null,
   "id": "d4cbd59e",
   "metadata": {},
   "outputs": [],
   "source": [
    "%%sql\n",
    "SELECT  City, Country, Season, AVG(Rainfall) FROM weatherTable \n",
    "GROUP BY Rainfall\n",
    "Having AVG(Rainfall) BETWEEN 200 AND 400;"
   ]
  },
  {
   "cell_type": "markdown",
   "id": "22dd3d34",
   "metadata": {},
   "source": [
    "#### f) The city and country for which the average Fall temperature is above 20 degrees, in increasing temperature order."
   ]
  },
  {
   "cell_type": "code",
   "execution_count": null,
   "id": "8af02ec3",
   "metadata": {},
   "outputs": [],
   "source": [
    "%%sql\n",
    "select City, Country, AVG(Temperature) FROM weatherTable\n",
    "WHERE Season = 'Fall'  \n",
    "group by Temperature\n",
    "HAVING AVG(Temperature) > 20\n",
    "ORDER BY AVG(Temperature) ASC;"
   ]
  },
  {
   "cell_type": "markdown",
   "id": "7b8bc0a1",
   "metadata": {},
   "source": [
    "#### g) The total annual rainfall for Cairo."
   ]
  },
  {
   "cell_type": "code",
   "execution_count": null,
   "id": "d508e6c8",
   "metadata": {},
   "outputs": [],
   "source": [
    "%%sql\n",
    "select City, SUM(Rainfall) FROM weatherTable where City='Cairo'"
   ]
  },
  {
   "cell_type": "markdown",
   "id": "d779898d",
   "metadata": {},
   "source": [
    "#### h) The total rainfall for each season."
   ]
  },
  {
   "cell_type": "code",
   "execution_count": null,
   "id": "cf471f5d",
   "metadata": {},
   "outputs": [],
   "source": [
    "%%sql\n",
    "select Season, SUM(Rainfall) FROM weatherTable\n",
    "group by Season"
   ]
  },
  {
   "cell_type": "markdown",
   "id": "a99617c7",
   "metadata": {},
   "source": [
    "# Question 9. \n",
    "\n",
    "Write list comprehension expressions that use list words and generate the following \n",
    "lists:\n"
   ]
  },
  {
   "cell_type": "code",
   "execution_count": 24,
   "id": "6da61a16",
   "metadata": {},
   "outputs": [
    {
     "name": "stdout",
     "output_type": "stream",
     "text": [
      "\n",
      "**************************Question 9*******************************\n",
      "\n",
      "Ans a).\n",
      " ['THE', 'QUICK', 'BROWN', 'FOX', 'JUMPS', 'OVER', 'THE', 'LAZY', 'DOG']\n",
      "\n",
      "\n",
      "Ans b).\n",
      " ['the', 'quick', 'brown', 'fox', 'jumps', 'over', 'the', 'lazy', 'dog']\n",
      "\n",
      "\n",
      "Ans c).\n",
      " [3, 5, 5, 3, 5, 4, 3, 4, 3]\n",
      "\n",
      "\n",
      "Ans d).\n",
      " [['THE', 'the', 3], ['QUICK', 'quick', 5], ['BROWN', 'brown', 5], ['FOX', 'fox', 3], ['JUMPS', 'jumps', 5], ['OVER', 'over', 4], ['THE', 'the', 3], ['LAZY', 'lazy', 4], ['DOG', 'dog', 3]]\n",
      "\n",
      "\n",
      "Ans e).\n",
      " ['quick', 'brown', 'jumps', 'over', 'lazy']\n"
     ]
    }
   ],
   "source": [
    "\n",
    "\n",
    "\n",
    "#**************************Question 9*******************************\n",
    "\n",
    "print(\"\\n**************************Question 9*******************************\\n\")\n",
    "\n",
    "\n",
    "\n",
    "words = [\"The\", \"quick\", \"brown\", \"fox\", \"jumps\", \"over\", \"the\", \"lazy\", \"dog\"]\n",
    "\n",
    "# a) Converting words into upper case words\n",
    "UpperWords = [word.upper() for word in words]\n",
    "print(\"Ans a).\\n\",UpperWords)\n",
    "print(\"\\n\")\n",
    "\n",
    "\n",
    "# b) Converting words into lower case words\n",
    "\n",
    "LowerWords = [word.lower() for word in words]\n",
    "print(\"Ans b).\\n\",LowerWords)\n",
    "print(\"\\n\")\n",
    "\n",
    "\n",
    "# c) calculating the list of length of words in list words\n",
    "\n",
    "LengthWords = []\n",
    "for w in words:\n",
    "    LengthWords.append(len(w))     \n",
    "print(\"Ans c).\\n\",LengthWords)\n",
    "print(\"\\n\")\n",
    "\n",
    "\n",
    "\"\"\"d) the list containing a list for every word of list words, where each list contains the word in uppercase and lowercase and \n",
    "the length of the word\"\"\"\n",
    "\n",
    "initializeCounterValue = 0\n",
    "single_List_Array = []\n",
    "    \n",
    "for j in words:\n",
    "    single_List_Array.append(UpperWords[initializeCounterValue])\n",
    "    single_List_Array.append(LowerWords[initializeCounterValue])\n",
    "    single_List_Array.append(LengthWords[initializeCounterValue])\n",
    "    initializeCounterValue = initializeCounterValue + 1\n",
    "\n",
    "delimiterVariableLimit = 3\n",
    "resultArray = [single_List_Array[additor:additor+delimiterVariableLimit] for additor in range(0, len(single_List_Array), delimiterVariableLimit)]\n",
    "print(\"Ans d).\\n\",resultArray)\n",
    "print(\"\\n\")\n",
    "\n",
    "# e) finding the list of words in list words containing 4 or more characters in it\n",
    "\n",
    "def wordString(k, str):    \n",
    "    string = []     \n",
    "    text = str.split(\" \")     \n",
    "    for x in text:         \n",
    "        if len(x) >= k:            \n",
    "            string.append(x)             \n",
    "    return string\n",
    "    \n",
    "result_list = [''.join([str(c) for c in lst]) for lst in words]\n",
    "result_string = ' '.join(result_list)\n",
    "requiredCharacterLength = 4\n",
    "print(\"Ans e).\\n\",wordString(requiredCharacterLength, result_string))"
   ]
  },
  {
   "cell_type": "code",
   "execution_count": null,
   "id": "2dff45e2",
   "metadata": {},
   "outputs": [],
   "source": []
  }
 ],
 "metadata": {
  "kernelspec": {
   "display_name": "Python 3 (ipykernel)",
   "language": "python",
   "name": "python3"
  },
  "language_info": {
   "codemirror_mode": {
    "name": "ipython",
    "version": 3
   },
   "file_extension": ".py",
   "mimetype": "text/x-python",
   "name": "python",
   "nbconvert_exporter": "python",
   "pygments_lexer": "ipython3",
   "version": "3.9.12"
  }
 },
 "nbformat": 4,
 "nbformat_minor": 5
}
